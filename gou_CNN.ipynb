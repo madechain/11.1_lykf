{
 "cells": [
  {
   "cell_type": "markdown",
   "metadata": {},
   "source": [
    "***使用卷积网络给狗子图片分类***\n",
    "    #对于卷积网络来说，MNIST手写数字识别比较简单，轻松地就可以达到99%左右的准确率\n",
    "#***图像数据的读入工作***\n",
    "    #训练网络之前先准备数据，把不同目录中国的图像全部都整理到同一个目录当中，并且将它们都整合到python特征张量里面，然后进行乱序排序。那么这个输入结构应该是4D张量，形状是（样本，图像高度，图像宽度，颜色深度）\n",
    "    #相对的，也要把目录名整理到一个同样长度的1D张量当中，次序和特征张良一直\n",
    "    #1.数据读入...\n",
    "    #先显示一下目录下面的狗的种类子目录"
   ]
  },
  {
   "cell_type": "code",
   "execution_count": 1,
   "metadata": {
    "collapsed": true,
    "jupyter": {
     "outputs_hidden": true
    }
   },
   "outputs": [
    {
     "name": "stdout",
     "output_type": "stream",
     "text": [
      "['n02085620-Chihuahua', 'n02085782-Japanese_spaniel', 'n02085936-Maltese_dog', 'n02086079-Pekinese', 'n02086240-Shih-Tzu', 'n02086646-Blenheim_spaniel', 'n02086910-papillon', 'n02087046-toy_terrier', 'n02087394-Rhodesian_ridgeback', 'n02088094-Afghan_hound', 'n02088238-basset', 'n02088364-beagle', 'n02088466-bloodhound', 'n02088632-bluetick', 'n02089078-black-and-tan_coonhound', 'n02089867-Walker_hound', 'n02089973-English_foxhound', 'n02090379-redbone', 'n02090622-borzoi', 'n02090721-Irish_wolfhound', 'n02091032-Italian_greyhound', 'n02091134-whippet', 'n02091244-Ibizan_hound', 'n02091467-Norwegian_elkhound', 'n02091635-otterhound', 'n02091831-Saluki', 'n02092002-Scottish_deerhound', 'n02092339-Weimaraner', 'n02093256-Staffordshire_bullterrier', 'n02093428-American_Staffordshire_terrier', 'n02093647-Bedlington_terrier', 'n02093754-Border_terrier', 'n02093859-Kerry_blue_terrier', 'n02093991-Irish_terrier', 'n02094114-Norfolk_terrier', 'n02094258-Norwich_terrier', 'n02094433-Yorkshire_terrier', 'n02095314-wire-haired_fox_terrier', 'n02095570-Lakeland_terrier', 'n02095889-Sealyham_terrier', 'n02096051-Airedale', 'n02096177-cairn', 'n02096294-Australian_terrier', 'n02096437-Dandie_Dinmont', 'n02096585-Boston_bull', 'n02097047-miniature_schnauzer', 'n02097130-giant_schnauzer', 'n02097209-standard_schnauzer', 'n02097298-Scotch_terrier', 'n02097474-Tibetan_terrier', 'n02097658-silky_terrier', 'n02098105-soft-coated_wheaten_terrier', 'n02098286-West_Highland_white_terrier', 'n02098413-Lhasa', 'n02099267-flat-coated_retriever', 'n02099429-curly-coated_retriever', 'n02099601-golden_retriever', 'n02099712-Labrador_retriever', 'n02099849-Chesapeake_Bay_retriever', 'n02100236-German_short-haired_pointer', 'n02100583-vizsla', 'n02100735-English_setter', 'n02100877-Irish_setter', 'n02101006-Gordon_setter', 'n02101388-Brittany_spaniel', 'n02101556-clumber', 'n02102040-English_springer', 'n02102177-Welsh_springer_spaniel', 'n02102318-cocker_spaniel', 'n02102480-Sussex_spaniel', 'n02102973-Irish_water_spaniel', 'n02104029-kuvasz', 'n02104365-schipperke', 'n02105056-groenendael', 'n02105162-malinois', 'n02105251-briard', 'n02105412-kelpie', 'n02105505-komondor', 'n02105641-Old_English_sheepdog', 'n02105855-Shetland_sheepdog', 'n02106030-collie', 'n02106166-Border_collie', 'n02106382-Bouvier_des_Flandres', 'n02106550-Rottweiler', 'n02106662-German_shepherd', 'n02107142-Doberman', 'n02107312-miniature_pinscher', 'n02107574-Greater_Swiss_Mountain_dog', 'n02107683-Bernese_mountain_dog', 'n02107908-Appenzeller', 'n02108000-EntleBucher', 'n02108089-boxer', 'n02108422-bull_mastiff', 'n02108551-Tibetan_mastiff', 'n02108915-French_bulldog', 'n02109047-Great_Dane', 'n02109525-Saint_Bernard', 'n02109961-Eskimo_dog', 'n02110063-malamute', 'n02110185-Siberian_husky', 'n02110627-affenpinscher', 'n02110806-basenji', 'n02110958-pug', 'n02111129-Leonberg', 'n02111277-Newfoundland', 'n02111500-Great_Pyrenees', 'n02111889-Samoyed', 'n02112018-Pomeranian', 'n02112137-chow', 'n02112350-keeshond', 'n02112706-Brabancon_griffon', 'n02113023-Pembroke', 'n02113186-Cardigan', 'n02113624-toy_poodle', 'n02113712-miniature_poodle', 'n02113799-standard_poodle', 'n02113978-Mexican_hairless', 'n02115641-dingo', 'n02115913-dhole', 'n02116738-African_hunting_dog']\n"
     ]
    }
   ],
   "source": [
    "import numpy as np # linear algebra\n",
    "import pandas as pd # data processing, CSV file I/O (e.g. pd.read_csv)\n",
    "import os\n",
    "print(os.listdir(\"dogs/images/Images/\"))"
   ]
  },
  {
   "cell_type": "code",
   "execution_count": 2,
   "metadata": {},
   "outputs": [],
   "source": [
    "#本示例只处理这10种狗\n",
    "dir = 'dogs/images/Images/'\n",
    "chihuahua_dir = dir+'n02085620-Chihuahua'#吉娃娃\n",
    "japanese_dir = dir+'n02085782-Japanese_spaniel'#口木狆\n",
    "maltese_dir = dir+'n02085936-Maltese_dog'#马尔济斯犬\n",
    "pekinese_dir = dir+'n02086079-Pekinese'#北京狮子狗\n",
    "shihtzu_dir = dir+'n02086240-Shih-Tzu'#西施犬\n",
    "blenheim_dir = dir+'n02086646-Blenheim_spaniel'#英国可卡犬\n",
    "papillon_dir = dir+'n02086910-papillon'#蝴蝶犬\n",
    "toy_terrier_dir = dir+'n02087046-toy_terrier'#玩具猎狐狗\n",
    "afghan_hound_dir = dir+'n02088094-Afghan_hound'#阿富汗猎狗\n",
    "basset_dir = dir+'n02088238-basset'#巴吉度猎犬"
   ]
  },
  {
   "cell_type": "markdown",
   "metadata": {},
   "source": [
    "#下面的部分代码，我们将这10个狗种类的子目录当中的图像和标签值读入到X，y数据及当中；"
   ]
  },
  {
   "cell_type": "code",
   "execution_count": 3,
   "metadata": {
    "collapsed": true,
    "jupyter": {
     "outputs_hidden": true
    }
   },
   "outputs": [
    {
     "name": "stdout",
     "output_type": "stream",
     "text": [
      "正在读入： dogs/images/Images/n02085620-Chihuahua\n",
      "正在读入： dogs/images/Images/n02085782-Japanese_spaniel\n",
      "正在读入： dogs/images/Images/n02085936-Maltese_dog\n",
      "正在读入： dogs/images/Images/n02086079-Pekinese\n",
      "正在读入： dogs/images/Images/n02086240-Shih-Tzu\n",
      "正在读入： dogs/images/Images/n02086646-Blenheim_spaniel\n",
      "正在读入： dogs/images/Images/n02086910-papillon\n",
      "正在读入： dogs/images/Images/n02087046-toy_terrier\n",
      "正在读入： dogs/images/Images/n02088094-Afghan_hound\n",
      "正在读入： dogs/images/Images/n02088238-basset\n"
     ]
    }
   ],
   "source": [
    "import cv2 #导入Open CV工具\n",
    "X = []\n",
    "y_label = []\n",
    "imgsize = 150\n",
    "#定义 一个函数读入狗狗的图片\n",
    "def training_data(label,data_dir):\n",
    "    print(\"正在读入：\",data_dir)\n",
    "    for img in os.listdir(data_dir):\n",
    "        path = os.path.join(data_dir,img)\n",
    "        #cv2.imread()方法是用来读取图片的，其中的参数\n",
    "        #IMREAD_COLOR()则是杜如菜色图片\n",
    "        img = cv2.imread(path,cv2.IMREAD_COLOR)\n",
    "        #给刚才读入变量img的图片重新定义尺寸，长和宽都重定义\n",
    "        #为150px\n",
    "        img = cv2.resize(img,(imgsize,imgsize))\n",
    "        X.append(np.array(img))\n",
    "        y_label.append(str(label))\n",
    "#读入10个目录中的狗狗图片\n",
    "training_data('Chihuahua',chihuahua_dir)\n",
    "training_data('Japanese_spaniel',japanese_dir)\n",
    "training_data('Maltese_dog',maltese_dir)\n",
    "training_data('Pekinese',pekinese_dir)\n",
    "training_data('Shih-Tzu',shihtzu_dir)\n",
    "training_data('Blenheim_spaniel',blenheim_dir)\n",
    "training_data('papillon',papillon_dir)\n",
    "training_data('toy_terrier',toy_terrier_dir)\n",
    "training_data('Afghan_hound',afghan_hound_dir)\n",
    "training_data('basset',basset_dir)"
   ]
  },
  {
   "cell_type": "markdown",
   "metadata": {},
   "source": [
    "#**注意！！！**\n",
    "这里如果不是在kaggle上运行代码，则需要自行安装opencv-python库。\n",
    "并且在使用opencv的时候我们应该保持所有项目和数据集所在目录的绝对路径当中没有中文字符！否则会报错！\n",
    "\n",
    "这个时候X和y仍然是python列表，而不是numpy数组。\n",
    "**构建X，y张量**\n",
    "下面的代码用来构建他们，并且将标签从文本转换为One-hot格式的分类编码："
   ]
  },
  {
   "cell_type": "code",
   "execution_count": 4,
   "metadata": {},
   "outputs": [],
   "source": [
    "from sklearn.preprocessing import LabelEncoder #导入标签编码\n",
    "from keras.utils.np_utils import to_categorical #导入One—hot\n",
    "label_encoder = LabelEncoder()\n",
    "# 下面\n",
    "y = label_encoder.fit_transform(y_label)#标签编码\n",
    "y = to_categorical(y,10)#将标签转换为One-hot编码\n",
    "#np.array()方法将X从列表表转换为张量数组\n",
    "X = np.array(X) #将X从列表转换为张量数组\n",
    "#下面这个语句相当于是手工将图像的像素值进行简单的压缩，\n",
    "#也就是将X张量进行归一化，用以利用神经网络处理它。\n",
    "X = X/255 #将X张量归一化"
   ]
  },
  {
   "cell_type": "markdown",
   "metadata": {},
   "source": [
    "**接下来我们来显示向量化之后的图像**\n",
    "输出一个X张量的形状和内容"
   ]
  },
  {
   "cell_type": "code",
   "execution_count": 5,
   "metadata": {
    "collapsed": true,
    "jupyter": {
     "outputs_hidden": true
    }
   },
   "outputs": [
    {
     "name": "stdout",
     "output_type": "stream",
     "text": [
      "X张量的形状： (1922, 150, 150, 3)\n",
      "X张量的第一个数据 [[[0.22352941 0.21176471 0.60392157]\n",
      "  [0.19215686 0.16862745 0.58823529]\n",
      "  [0.27058824 0.21176471 0.67843137]\n",
      "  ...\n",
      "  [0.64705882 0.73333333 0.97254902]\n",
      "  [0.56078431 0.65490196 0.90980392]\n",
      "  [0.49411765 0.58823529 0.86666667]]\n",
      "\n",
      " [[0.47058824 0.40784314 0.8       ]\n",
      "  [0.39215686 0.3254902  0.75294118]\n",
      "  [0.4        0.31764706 0.79607843]\n",
      "  ...\n",
      "  [0.56470588 0.68627451 0.9372549 ]\n",
      "  [0.49411765 0.63529412 0.89019608]\n",
      "  [0.36078431 0.51764706 0.77647059]]\n",
      "\n",
      " [[0.67058824 0.57647059 0.94901961]\n",
      "  [0.58823529 0.49803922 0.90588235]\n",
      "  [0.45882353 0.36470588 0.83137255]\n",
      "  ...\n",
      "  [0.43921569 0.58039216 0.81176471]\n",
      "  [0.36470588 0.54509804 0.77647059]\n",
      "  [0.14117647 0.35294118 0.58039216]]\n",
      "\n",
      " ...\n",
      "\n",
      " [[0.2627451  0.43529412 0.38431373]\n",
      "  [0.3254902  0.47058824 0.41176471]\n",
      "  [0.29411765 0.36862745 0.30980392]\n",
      "  ...\n",
      "  [0.32156863 0.4627451  0.44313725]\n",
      "  [0.60392157 0.78431373 0.78431373]\n",
      "  [0.28235294 0.5254902  0.58431373]]\n",
      "\n",
      " [[0.34509804 0.56078431 0.56078431]\n",
      "  [0.18039216 0.36862745 0.35686275]\n",
      "  [0.05882353 0.18039216 0.14901961]\n",
      "  ...\n",
      "  [0.38431373 0.55294118 0.45882353]\n",
      "  [0.43921569 0.64705882 0.55686275]\n",
      "  [0.18039216 0.44705882 0.41176471]]\n",
      "\n",
      " [[0.10196078 0.3372549  0.36078431]\n",
      "  [0.16470588 0.41176471 0.40784314]\n",
      "  [0.22745098 0.44705882 0.40392157]\n",
      "  ...\n",
      "  [0.35294118 0.50196078 0.38431373]\n",
      "  [0.42352941 0.60392157 0.48235294]\n",
      "  [0.36470588 0.6        0.5254902 ]]]\n"
     ]
    }
   ],
   "source": [
    "print('X张量的形状：',X.shape)\n",
    "print('X张量的第一个数据',X[1])"
   ]
  },
  {
   "cell_type": "code",
   "execution_count": 6,
   "metadata": {
    "collapsed": true,
    "jupyter": {
     "outputs_hidden": true
    }
   },
   "outputs": [
    {
     "name": "stdout",
     "output_type": "stream",
     "text": [
      "y张量的形状： (1922, 10)\n",
      "y张量的第一个数据 [0. 0. 1. 0. 0. 0. 0. 0. 0. 0.]\n"
     ]
    }
   ],
   "source": [
    "print('y张量的形状：',y.shape)\n",
    "print('y张量的第一个数据',y[1])"
   ]
  },
  {
   "cell_type": "markdown",
   "metadata": {},
   "source": [
    "现在我们可以将它缩放到[0,1]区间范围，缩放之后的增长量重新以图像的形式显示出来"
   ]
  },
  {
   "cell_type": "code",
   "execution_count": 7,
   "metadata": {},
   "outputs": [],
   "source": [
    "import matplotlib.pyplot as plt#导入matplotlib\n",
    "import random as rdm#导入随机数工具\n",
    "#随机显示几张可爱的狗狗图片吧\n",
    "fig,ax = plt.subplots(5,2)\n",
    "fig.set_size_inches(15,15)\n",
    "for i in range(5):\n",
    "    for j in range(2):\n",
    "        r = rdm.randint(0,len(X))\n",
    "        ax[i,j].imshow(X[r])\n",
    "        ax[i,j].set_title('Dog:'+y_label[r])\n",
    "plt.tight_layout()"
   ]
  },
  {
   "cell_type": "code",
   "execution_count": 8,
   "metadata": {},
   "outputs": [],
   "source": [
    "from sklearn.model_selection import train_test_split #导入拆分工具\n",
    "X_train,X_test,y_train,y_test = train_test_split(X,y,test_size=0.2,random_state=0)"
   ]
  },
  {
   "cell_type": "markdown",
   "metadata": {},
   "source": [
    "开始构建一个简单的卷积网络\n",
    "\n",
    "在下面的代码当中，我们对卷积网络进行了创建和一系列设置。\n",
    "可以从代码中看到特征图的深度在逐渐增加。从32增加到128，特征图的大小则从150*150逐渐缩小。\n",
    "这个时构建卷积网络的常见模式。因为需要的层类比较多，我们简单的介绍一下这个卷积网络当中用到的\n",
    "各个层和超参数。\n",
    "Conv2D，他是2D卷积层，对于平面图像进行卷积。卷积层的参数32（3,3,），其中32是他的深度，\n",
    "也就是改成的卷积核的个数。也可以理解成通道数，后面（3,3）表示的是卷积窗口的大小，在第一个卷积层中还通过了input_shape(150,150,3)去指定了输入特征图的形状。。。。\n",
    "    全部的卷积层通过ReLu函数激活。\n",
    "    其实还有其他类型的卷积层，比如用于处理时序卷积的一维卷积层Cov1D等等。。。。\n",
    "    MaxPooling2D，是最大池化层，一般会紧随着卷积层出现，通常采用了2*2的窗口，他的默认步幅是2。这是将特征图进行2倍下采样，也就\n",
    "是宽高特征各减半\n",
    "         这种卷积+池化的架构一般要重复几次。同时逐渐增加特征的深度。\n",
    "         Flatten（），是用来构建展平层，将卷积操作的特征图展平之后，我们才能够输入全连接层进行进一步的处理。\n",
    "         最后还有两个Dense，他门市全连接层\n",
    "             第一个是普通的层，用来计算权重，确定分类，用ReLu函数激活\n",
    "             第二个则是只负责输出分类结果，因为是多分类，所以用SoftMax函数进行激活。\n",
    "         在网络编译的时候，需要选择合适的超参数。\n",
    "             当损失函数的选择是categorical_crossentropy，也就是分类交叉熵，它适用于多分类问题，用以衡量两个概率分布之间的举例，\n",
    "         使之最小化，让输出结果尽可能接近真实值。\n",
    "             优化器的选择是RMSProp\n",
    "             评估指标为准确率acc，等价于accucary。"
   ]
  },
  {
   "cell_type": "code",
   "execution_count": 9,
   "metadata": {},
   "outputs": [],
   "source": [
    "from keras import layers\n",
    "from keras import models # 导入所有模型\n",
    "cnn = models.Sequential() # 贯序模型\n",
    "cnn.add(layers.Conv2D(32, (3, 3), activation='relu', # 卷积\n",
    "                        input_shape=(150, 150, 3))) \n",
    "cnn.add(layers.MaxPooling2D((2, 2))) # 最大池化\n",
    "cnn.add(layers.Conv2D(64, (3, 3), activation='relu')) # 卷积\n",
    "cnn.add(layers.MaxPooling2D((2, 2))) # 最大池化\n",
    "cnn.add(layers.Conv2D(128, (3, 3), activation='relu')) # 卷积\n",
    "cnn.add(layers.MaxPooling2D((2, 2))) # 最大池化\n",
    "cnn.add(layers.Conv2D(128, (3, 3), activation='relu')) # 卷积\n",
    "cnn.add(layers.MaxPooling2D((2, 2))) # 最大池化\n",
    "cnn.add(layers.Flatten()) # 展平\n",
    "cnn.add(layers.Dense(512, activation='relu')) # 全连接\n",
    "cnn.add(layers.Dense(10, activation='softmax')) # 分类输出\n",
    "cnn.compile(loss='categorical_crossentropy', # 损失函数\n",
    "            optimizer='RMSprop', # 优化器\n",
    "            metrics=['acc']) # 评估指标\n"
   ]
  },
  {
   "cell_type": "markdown",
   "metadata": {},
   "source": [
    "训练网络并且显示误差和准确率\n",
    "对网络进行训练（为了简化模型，这里还是直接使用训练集数据进行验证）"
   ]
  },
  {
   "cell_type": "code",
   "execution_count": 10,
   "metadata": {},
   "outputs": [
    {
     "name": "stdout",
     "output_type": "stream",
     "text": [
      "Epoch 1/50\n",
      "7/7 [==============================] - 18s 2s/step - loss: 3.3572 - acc: 0.1256 - val_loss: 2.3089 - val_acc: 0.0935\n",
      "Epoch 2/50\n",
      "7/7 [==============================] - 18s 3s/step - loss: 2.2871 - acc: 0.1392 - val_loss: 10.8398 - val_acc: 0.1195\n",
      "Epoch 3/50\n",
      "7/7 [==============================] - 19s 3s/step - loss: 3.5453 - acc: 0.1217 - val_loss: 2.2993 - val_acc: 0.1351\n",
      "Epoch 4/50\n",
      "7/7 [==============================] - 19s 3s/step - loss: 2.2625 - acc: 0.1640 - val_loss: 2.6920 - val_acc: 0.0935\n",
      "Epoch 5/50\n",
      "7/7 [==============================] - 18s 3s/step - loss: 2.2750 - acc: 0.2141 - val_loss: 2.3665 - val_acc: 0.1195\n",
      "Epoch 6/50\n",
      "7/7 [==============================] - 18s 3s/step - loss: 2.2599 - acc: 0.1828 - val_loss: 2.2654 - val_acc: 0.1714\n",
      "Epoch 7/50\n",
      "7/7 [==============================] - 19s 3s/step - loss: 2.1974 - acc: 0.2303 - val_loss: 2.8698 - val_acc: 0.0883\n",
      "Epoch 8/50\n",
      "7/7 [==============================] - 19s 3s/step - loss: 2.2681 - acc: 0.2049 - val_loss: 2.3341 - val_acc: 0.1688\n",
      "Epoch 9/50\n",
      "7/7 [==============================] - 18s 3s/step - loss: 2.1787 - acc: 0.2238 - val_loss: 2.8281 - val_acc: 0.1351\n",
      "Epoch 10/50\n",
      "7/7 [==============================] - 18s 3s/step - loss: 2.3024 - acc: 0.1926 - val_loss: 4.2242 - val_acc: 0.1195\n",
      "Epoch 11/50\n",
      "7/7 [==============================] - 18s 3s/step - loss: 2.4889 - acc: 0.2173 - val_loss: 4.7102 - val_acc: 0.0987\n",
      "Epoch 12/50\n",
      "7/7 [==============================] - 18s 3s/step - loss: 2.5994 - acc: 0.2095 - val_loss: 2.3839 - val_acc: 0.1558\n",
      "Epoch 13/50\n",
      "7/7 [==============================] - 18s 3s/step - loss: 2.1566 - acc: 0.2440 - val_loss: 2.3213 - val_acc: 0.0935\n",
      "Epoch 14/50\n",
      "7/7 [==============================] - 18s 3s/step - loss: 2.1453 - acc: 0.2147 - val_loss: 2.4004 - val_acc: 0.0935\n",
      "Epoch 15/50\n",
      "7/7 [==============================] - 19s 3s/step - loss: 2.1880 - acc: 0.2088 - val_loss: 2.6979 - val_acc: 0.1065\n",
      "Epoch 16/50\n",
      "7/7 [==============================] - 19s 3s/step - loss: 2.2123 - acc: 0.2264 - val_loss: 2.6037 - val_acc: 0.0571\n",
      "Epoch 17/50\n",
      "7/7 [==============================] - 19s 3s/step - loss: 2.1571 - acc: 0.2472 - val_loss: 4.8125 - val_acc: 0.1169\n",
      "Epoch 18/50\n",
      "7/7 [==============================] - 19s 3s/step - loss: 2.5253 - acc: 0.2687 - val_loss: 2.6756 - val_acc: 0.1429\n",
      "Epoch 19/50\n",
      "7/7 [==============================] - 19s 3s/step - loss: 2.1447 - acc: 0.2668 - val_loss: 3.0039 - val_acc: 0.0935\n",
      "Epoch 20/50\n",
      "7/7 [==============================] - 19s 3s/step - loss: 2.1116 - acc: 0.2759 - val_loss: 2.4263 - val_acc: 0.1610\n",
      "Epoch 21/50\n",
      "7/7 [==============================] - 19s 3s/step - loss: 1.9811 - acc: 0.3142 - val_loss: 3.5739 - val_acc: 0.1714\n",
      "Epoch 22/50\n",
      "7/7 [==============================] - 19s 3s/step - loss: 2.1342 - acc: 0.3058 - val_loss: 2.5160 - val_acc: 0.1844\n",
      "Epoch 23/50\n",
      "7/7 [==============================] - 19s 3s/step - loss: 2.0239 - acc: 0.3103 - val_loss: 2.3807 - val_acc: 0.2000\n",
      "Epoch 24/50\n",
      "7/7 [==============================] - 19s 3s/step - loss: 1.9565 - acc: 0.3260 - val_loss: 3.9205 - val_acc: 0.1065\n",
      "Epoch 25/50\n",
      "7/7 [==============================] - 19s 3s/step - loss: 2.2387 - acc: 0.3188 - val_loss: 2.4528 - val_acc: 0.1247\n",
      "Epoch 26/50\n",
      "7/7 [==============================] - 18s 3s/step - loss: 1.9426 - acc: 0.3396 - val_loss: 4.8512 - val_acc: 0.1506\n",
      "Epoch 27/50\n",
      "7/7 [==============================] - 19s 3s/step - loss: 2.2508 - acc: 0.3169 - val_loss: 2.8514 - val_acc: 0.1610\n",
      "Epoch 28/50\n",
      "7/7 [==============================] - 19s 3s/step - loss: 1.9036 - acc: 0.3669 - val_loss: 2.3188 - val_acc: 0.1662\n",
      "Epoch 29/50\n",
      "7/7 [==============================] - 19s 3s/step - loss: 1.7344 - acc: 0.3949 - val_loss: 6.2347 - val_acc: 0.1117\n",
      "Epoch 30/50\n",
      "7/7 [==============================] - 19s 3s/step - loss: 2.5749 - acc: 0.3084 - val_loss: 4.6580 - val_acc: 0.1481\n",
      "Epoch 31/50\n",
      "7/7 [==============================] - 19s 3s/step - loss: 2.1827 - acc: 0.3559 - val_loss: 2.6338 - val_acc: 0.1974\n",
      "Epoch 32/50\n",
      "7/7 [==============================] - 19s 3s/step - loss: 1.7006 - acc: 0.4333 - val_loss: 4.1516 - val_acc: 0.1714\n",
      "Epoch 33/50\n",
      "7/7 [==============================] - 19s 3s/step - loss: 1.9293 - acc: 0.4118 - val_loss: 3.4916 - val_acc: 0.1922\n",
      "Epoch 34/50\n",
      "7/7 [==============================] - 19s 3s/step - loss: 1.8380 - acc: 0.4372 - val_loss: 3.4490 - val_acc: 0.1481\n",
      "Epoch 35/50\n",
      "7/7 [==============================] - 19s 3s/step - loss: 1.7798 - acc: 0.4209 - val_loss: 3.4656 - val_acc: 0.2468\n",
      "Epoch 36/50\n",
      "7/7 [==============================] - 20s 3s/step - loss: 1.8197 - acc: 0.4262 - val_loss: 2.5152 - val_acc: 0.2234\n",
      "Epoch 37/50\n",
      "7/7 [==============================] - 20s 3s/step - loss: 1.6121 - acc: 0.4567 - val_loss: 3.2093 - val_acc: 0.1766\n",
      "Epoch 38/50\n",
      "7/7 [==============================] - 19s 3s/step - loss: 1.6341 - acc: 0.4723 - val_loss: 4.6665 - val_acc: 0.2130\n",
      "Epoch 39/50\n",
      "7/7 [==============================] - 19s 3s/step - loss: 1.8453 - acc: 0.4658 - val_loss: 3.8753 - val_acc: 0.2312\n",
      "Epoch 40/50\n",
      "7/7 [==============================] - 19s 3s/step - loss: 1.8464 - acc: 0.4606 - val_loss: 2.3965 - val_acc: 0.2130\n",
      "Epoch 41/50\n",
      "7/7 [==============================] - 19s 3s/step - loss: 1.3937 - acc: 0.5491 - val_loss: 2.9616 - val_acc: 0.2286\n",
      "Epoch 42/50\n",
      "7/7 [==============================] - 19s 3s/step - loss: 1.3401 - acc: 0.5647 - val_loss: 2.3285 - val_acc: 0.3039\n",
      "Epoch 43/50\n",
      "7/7 [==============================] - 19s 3s/step - loss: 1.1311 - acc: 0.6220 - val_loss: 3.1707 - val_acc: 0.2416\n",
      "Epoch 44/50\n",
      "7/7 [==============================] - 19s 3s/step - loss: 1.3589 - acc: 0.5647 - val_loss: 2.8486 - val_acc: 0.2442\n",
      "Epoch 45/50\n",
      "7/7 [==============================] - 20s 3s/step - loss: 1.1318 - acc: 0.6155 - val_loss: 6.2821 - val_acc: 0.1403\n",
      "Epoch 46/50\n",
      "7/7 [==============================] - 19s 3s/step - loss: 2.1394 - acc: 0.4906 - val_loss: 2.3941 - val_acc: 0.2701\n",
      "Epoch 47/50\n",
      "7/7 [==============================] - 19s 3s/step - loss: 1.0571 - acc: 0.6487 - val_loss: 2.7293 - val_acc: 0.2208\n",
      "Epoch 48/50\n",
      "7/7 [==============================] - 19s 3s/step - loss: 0.9644 - acc: 0.6903 - val_loss: 4.7951 - val_acc: 0.1740\n",
      "Epoch 49/50\n",
      "7/7 [==============================] - 19s 3s/step - loss: 1.2455 - acc: 0.6298 - val_loss: 2.5889 - val_acc: 0.3429\n",
      "Epoch 50/50\n",
      "7/7 [==============================] - 19s 3s/step - loss: 0.6104 - acc: 0.8204 - val_loss: 4.9735 - val_acc: 0.1740\n"
     ]
    }
   ],
   "source": [
    "history = cnn.fit(X_train,y_train, # 指定训练集\n",
    "                    epochs=50,     # 指定轮次\n",
    "                    batch_size=256, # 指定批量大小\n",
    "                    validation_data=(X_test,y_test)) # 指定验证集"
   ]
  },
  {
   "cell_type": "code",
   "execution_count": null,
   "metadata": {},
   "outputs": [],
   "source": [
    "从上面的结果看，并不理想，网络基本上没有训练起来，验证集的准确率过低了！对于我们划分了10个分类的多分类问题来说，\n",
    "这样的结果根我们闭着眼睛瞎猜差不多!\n",
    "那么。。。我们就需要做一下...\n",
    "\n",
    "**卷积网络性能优化**\n",
    "第一步，要更新优化器并设置学习速率\n",
    "从最简单的修改开始，暂时不改变网络结构，先考虑优化器的调整，并且尝试使用不同的学习速率进行梯度下降，因为很多时候神经网络完全没有\n",
    "训练起来，是因为学习速率设置的不好。亲看如下代码："
   ]
  },
  {
   "cell_type": "code",
   "execution_count": 12,
   "metadata": {
    "collapsed": true,
    "jupyter": {
     "outputs_hidden": true
    }
   },
   "outputs": [
    {
     "name": "stderr",
     "output_type": "stream",
     "text": [
      "E:\\anaconda\\lib\\site-packages\\keras\\optimizer_v2\\optimizer_v2.py:356: UserWarning: The `lr` argument is deprecated, use `learning_rate` instead.\n",
      "  \"The `lr` argument is deprecated, use `learning_rate` instead.\")\n"
     ]
    },
    {
     "name": "stdout",
     "output_type": "stream",
     "text": [
      "Epoch 1/50\n",
      "7/7 [==============================] - 20s 3s/step - loss: 2.2942 - acc: 0.1392 - val_loss: 2.2885 - val_acc: 0.2000\n",
      "Epoch 2/50\n",
      "7/7 [==============================] - 21s 3s/step - loss: 2.2776 - acc: 0.1483 - val_loss: 2.2837 - val_acc: 0.1429\n",
      "Epoch 3/50\n",
      "7/7 [==============================] - 22s 3s/step - loss: 2.2641 - acc: 0.1509 - val_loss: 2.2806 - val_acc: 0.1351\n",
      "Epoch 4/50\n",
      "7/7 [==============================] - 22s 3s/step - loss: 2.2610 - acc: 0.1503 - val_loss: 2.2822 - val_acc: 0.1636\n",
      "Epoch 5/50\n",
      "7/7 [==============================] - 22s 3s/step - loss: 2.2579 - acc: 0.1653 - val_loss: 2.2818 - val_acc: 0.1974\n",
      "Epoch 6/50\n",
      "7/7 [==============================] - 22s 3s/step - loss: 2.2523 - acc: 0.1867 - val_loss: 2.2818 - val_acc: 0.1610\n",
      "Epoch 7/50\n",
      "7/7 [==============================] - 22s 3s/step - loss: 2.2370 - acc: 0.2069 - val_loss: 2.2669 - val_acc: 0.1870\n",
      "Epoch 8/50\n",
      "7/7 [==============================] - 23s 3s/step - loss: 2.2189 - acc: 0.1958 - val_loss: 2.2573 - val_acc: 0.1273\n",
      "Epoch 9/50\n",
      "7/7 [==============================] - 22s 3s/step - loss: 2.2309 - acc: 0.1223 - val_loss: 2.2477 - val_acc: 0.1377\n",
      "Epoch 10/50\n",
      "7/7 [==============================] - 22s 3s/step - loss: 2.1808 - acc: 0.2277 - val_loss: 2.2373 - val_acc: 0.1766\n",
      "Epoch 11/50\n",
      "7/7 [==============================] - 22s 3s/step - loss: 2.1660 - acc: 0.2453 - val_loss: 2.2522 - val_acc: 0.1792\n",
      "Epoch 12/50\n",
      "7/7 [==============================] - 22s 3s/step - loss: 2.1621 - acc: 0.2134 - val_loss: 2.2333 - val_acc: 0.1818\n",
      "Epoch 13/50\n",
      "7/7 [==============================] - 22s 3s/step - loss: 2.1345 - acc: 0.2414 - val_loss: 2.2194 - val_acc: 0.2078\n",
      "Epoch 14/50\n",
      "7/7 [==============================] - 22s 3s/step - loss: 2.1240 - acc: 0.2446 - val_loss: 2.1936 - val_acc: 0.2234\n",
      "Epoch 15/50\n",
      "7/7 [==============================] - 22s 3s/step - loss: 2.1198 - acc: 0.2284 - val_loss: 2.1720 - val_acc: 0.2156\n",
      "Epoch 16/50\n",
      "7/7 [==============================] - 22s 3s/step - loss: 2.1055 - acc: 0.2401 - val_loss: 2.1732 - val_acc: 0.1948\n",
      "Epoch 17/50\n",
      "7/7 [==============================] - 22s 3s/step - loss: 2.0515 - acc: 0.2720 - val_loss: 2.1587 - val_acc: 0.2104\n",
      "Epoch 18/50\n",
      "7/7 [==============================] - 22s 3s/step - loss: 2.0938 - acc: 0.2245 - val_loss: 2.1596 - val_acc: 0.2182\n",
      "Epoch 19/50\n",
      "7/7 [==============================] - 22s 3s/step - loss: 2.0417 - acc: 0.2694 - val_loss: 2.1471 - val_acc: 0.2338\n",
      "Epoch 20/50\n",
      "7/7 [==============================] - 22s 3s/step - loss: 2.0923 - acc: 0.2355 - val_loss: 2.1260 - val_acc: 0.2519\n",
      "Epoch 21/50\n",
      "7/7 [==============================] - 22s 3s/step - loss: 2.0048 - acc: 0.2882 - val_loss: 2.1189 - val_acc: 0.2701\n",
      "Epoch 22/50\n",
      "7/7 [==============================] - 22s 3s/step - loss: 2.0009 - acc: 0.2830 - val_loss: 2.1170 - val_acc: 0.2675\n",
      "Epoch 23/50\n",
      "7/7 [==============================] - 22s 3s/step - loss: 1.9747 - acc: 0.3006 - val_loss: 2.1162 - val_acc: 0.2156\n",
      "Epoch 24/50\n",
      "7/7 [==============================] - 22s 3s/step - loss: 2.0484 - acc: 0.2505 - val_loss: 2.1079 - val_acc: 0.2623\n",
      "Epoch 25/50\n",
      "7/7 [==============================] - 22s 3s/step - loss: 1.9638 - acc: 0.3292 - val_loss: 2.1028 - val_acc: 0.2519\n",
      "Epoch 26/50\n",
      "7/7 [==============================] - 22s 3s/step - loss: 1.9793 - acc: 0.3064 - val_loss: 2.0948 - val_acc: 0.2779\n",
      "Epoch 27/50\n",
      "7/7 [==============================] - 22s 3s/step - loss: 2.0024 - acc: 0.2882 - val_loss: 2.1108 - val_acc: 0.2390\n",
      "Epoch 28/50\n",
      "7/7 [==============================] - 22s 3s/step - loss: 1.9476 - acc: 0.3253 - val_loss: 2.0991 - val_acc: 0.2519\n",
      "Epoch 29/50\n",
      "7/7 [==============================] - 22s 3s/step - loss: 1.9336 - acc: 0.3266 - val_loss: 2.0654 - val_acc: 0.2494\n",
      "Epoch 30/50\n",
      "7/7 [==============================] - 22s 3s/step - loss: 1.9110 - acc: 0.3377 - val_loss: 2.0594 - val_acc: 0.2935\n",
      "Epoch 31/50\n",
      "7/7 [==============================] - 22s 3s/step - loss: 1.9167 - acc: 0.3396 - val_loss: 2.0734 - val_acc: 0.2831\n",
      "Epoch 32/50\n",
      "7/7 [==============================] - 22s 3s/step - loss: 1.9146 - acc: 0.3364 - val_loss: 2.0993 - val_acc: 0.2519\n",
      "Epoch 33/50\n",
      "7/7 [==============================] - 22s 3s/step - loss: 1.9116 - acc: 0.3474 - val_loss: 2.0735 - val_acc: 0.2935\n",
      "Epoch 34/50\n",
      "7/7 [==============================] - 22s 3s/step - loss: 1.9445 - acc: 0.3234 - val_loss: 2.0712 - val_acc: 0.2961\n",
      "Epoch 35/50\n",
      "7/7 [==============================] - 22s 3s/step - loss: 1.8990 - acc: 0.3383 - val_loss: 2.0785 - val_acc: 0.2753\n",
      "Epoch 36/50\n",
      "7/7 [==============================] - 22s 3s/step - loss: 1.8992 - acc: 0.3461 - val_loss: 2.0701 - val_acc: 0.2831\n",
      "Epoch 37/50\n",
      "7/7 [==============================] - 22s 3s/step - loss: 1.8704 - acc: 0.3572 - val_loss: 2.0692 - val_acc: 0.2468\n",
      "Epoch 38/50\n",
      "7/7 [==============================] - 22s 3s/step - loss: 1.8758 - acc: 0.3377 - val_loss: 2.0539 - val_acc: 0.2623\n",
      "Epoch 39/50\n",
      "7/7 [==============================] - 22s 3s/step - loss: 1.8521 - acc: 0.3494 - val_loss: 2.0531 - val_acc: 0.2649\n",
      "Epoch 40/50\n",
      "7/7 [==============================] - 22s 3s/step - loss: 1.8445 - acc: 0.3624 - val_loss: 2.0432 - val_acc: 0.2805\n",
      "Epoch 41/50\n",
      "7/7 [==============================] - 22s 3s/step - loss: 1.8770 - acc: 0.3487 - val_loss: 2.0581 - val_acc: 0.2649\n",
      "Epoch 42/50\n",
      "7/7 [==============================] - 22s 3s/step - loss: 1.8842 - acc: 0.3487 - val_loss: 2.0481 - val_acc: 0.2987\n",
      "Epoch 43/50\n",
      "7/7 [==============================] - 22s 3s/step - loss: 1.8402 - acc: 0.3696 - val_loss: 2.0490 - val_acc: 0.2857\n",
      "Epoch 44/50\n",
      "7/7 [==============================] - 22s 3s/step - loss: 1.8729 - acc: 0.3565 - val_loss: 2.0555 - val_acc: 0.2753\n",
      "Epoch 45/50\n",
      "7/7 [==============================] - 22s 3s/step - loss: 1.8676 - acc: 0.3656 - val_loss: 2.0484 - val_acc: 0.2857\n",
      "Epoch 46/50\n",
      "7/7 [==============================] - 22s 3s/step - loss: 1.8199 - acc: 0.3858 - val_loss: 2.0521 - val_acc: 0.2909\n",
      "Epoch 47/50\n",
      "7/7 [==============================] - 22s 3s/step - loss: 1.8352 - acc: 0.3630 - val_loss: 2.0836 - val_acc: 0.2364\n",
      "Epoch 48/50\n",
      "7/7 [==============================] - 22s 3s/step - loss: 1.8570 - acc: 0.3370 - val_loss: 2.0445 - val_acc: 0.2519\n",
      "Epoch 49/50\n",
      "7/7 [==============================] - 22s 3s/step - loss: 1.7955 - acc: 0.3917 - val_loss: 2.0422 - val_acc: 0.2675\n",
      "Epoch 50/50\n",
      "7/7 [==============================] - 22s 3s/step - loss: 1.9120 - acc: 0.3208 - val_loss: 2.0807 - val_acc: 0.2519\n"
     ]
    }
   ],
   "source": [
    "from keras import optimizers #导入优化器\n",
    "from tensorflow import optimizers\n",
    "cnn = models.Sequential() # 贯序模型\n",
    "cnn.add(layers.Conv2D(32, (3, 3), activation='relu', # 卷积\n",
    "                        input_shape=(150, 150, 3))) \n",
    "cnn.add(layers.MaxPooling2D((2, 2))) # 最大池化\n",
    "cnn.add(layers.Conv2D(64, (3, 3), activation='relu')) # 卷积\n",
    "cnn.add(layers.Dropout(0.5))#Dropout\n",
    "cnn.add(layers.MaxPooling2D((2, 2))) # 最大池化\n",
    "cnn.add(layers.Conv2D(128, (3, 3), activation='relu')) # 卷积\n",
    "cnn.add(layers.MaxPooling2D((2, 2))) # 最大池化\n",
    "cnn.add(layers.Conv2D(256, (3, 3), activation='relu')) # 卷积\n",
    "cnn.add(layers.MaxPooling2D((2, 2))) # 最大池化\n",
    "cnn.add(layers.Flatten()) # 展平\n",
    "cnn.add(layers.Dropout(0.5))\n",
    "cnn.add(layers.Dense(512, activation='relu')) # 全连接\n",
    "cnn.add(layers.Dense(10, activation='sigmoid')) # 分类输出\n",
    "cnn.compile(loss='categorical_crossentropy', # 损失函数\n",
    "            optimizer=optimizers.Adam(lr=1e-4),  # 更新优化器并设定学习速率\n",
    "            metrics=['acc']) # 评估指标\n",
    "history = cnn.fit(X_train,y_train, # 指定训练集\n",
    "                    epochs=50,     # 指定轮次\n",
    "                    batch_size=256, # 指定批量大小\n",
    "                    validation_data=(X_test,y_test)) # 指定验证集"
   ]
  },
  {
   "cell_type": "markdown",
   "metadata": {},
   "source": [
    "***数据增强***\n",
    "下面我们要对卷积网络处理问题的性能进行改善，会用到**数据增强**（data augmentation）。\n",
    "这种方法肯定能够对进一步提高计算机视觉问题的准确率，同时降低它的过拟合，数据增强能够\n",
    "把一张图像当成7张8张甚至100张来使用，也就是会在现有的数据样本中生成更多的训练数据。\n",
    "他是怎么做到的呢？是通过对 图像的平移，颠倒，倾斜，虚化，增加噪声等多种手段来实现的，\n",
    "这是利用了能够生成可信图像的随机交换来增加样本数、这样一来，训练集就被大幅度的增强，不管是图像的数目\n",
    "还是多样性都会有显著增加。因此，在模型训练后，能够观察到数据的更多内容，从而具有更好的准确率和泛化能力。\n",
    "在keras当中，可以用ImageData-Generator工具来定义一个数据增强器。\n"
   ]
  },
  {
   "cell_type": "code",
   "execution_count": 24,
   "metadata": {},
   "outputs": [],
   "source": [
    "from keras.preprocessing.image import ImageDataGenerator\n",
    "augs_gen = ImageDataGenerator(\n",
    "           featurewise_center=False,\n",
    "           samplewise_center=False,\n",
    "           featurewise_std_normalization=False,\n",
    "           samplewise_std_normalization=False,\n",
    "           zca_whitening=False,\n",
    "           rotation_range=10,\n",
    "           zoom_range=0.1,\n",
    "           width_shift_range=0.2,\n",
    "           height_shift_range=0.2,\n",
    "           horizontal_flip=True,\n",
    "           vertical_flip=False)\n",
    "augs_gen.fit(X_train)#针对训练集拟合数据增强器"
   ]
  },
  {
   "cell_type": "markdown",
   "metadata": {},
   "source": [
    "这里的网络还是用相同的网络，唯一的区别在于训练的时候，需要通过fit_generator方法动态生成增强后的训练集"
   ]
  },
  {
   "cell_type": "code",
   "execution_count": 26,
   "metadata": {},
   "outputs": [
    {
     "name": "stdout",
     "output_type": "stream",
     "text": [
      "Epoch 1/50\n",
      " 97/100 [============================>.] - ETA: 0s - loss: 2.0399 - acc: 0.2960WARNING:tensorflow:Your input ran out of data; interrupting training. Make sure that your dataset or generator can generate at least `steps_per_epoch * epochs` batches (in this case, 5000 batches). You may need to use the repeat() function when building your dataset.\n",
      "WARNING:tensorflow:Your input ran out of data; interrupting training. Make sure that your dataset or generator can generate at least `steps_per_epoch * epochs` batches (in this case, 100 batches). You may need to use the repeat() function when building your dataset.\n",
      "100/100 [==============================] - 23s 225ms/step - loss: 2.0399 - acc: 0.2960 - val_loss: 2.0475 - val_acc: 0.2727\n"
     ]
    }
   ],
   "source": [
    "history = cnn.fit_generator( #使用fit_generator\n",
    "    augs_gen.flow(X_train,y_train,batch_size=16), #增强后的训练集\n",
    "    validation_data = (X_test,y_test), #指定验证集\n",
    "    validation_steps = 100, #指定验证步长\n",
    "    steps_per_epoch = 100, #指定每秒步长\n",
    "    epochs = 50,  #指定轮次\n",
    "    verbose = 1 #指定是否显示训练过程中的信息\n",
    ")"
   ]
  },
  {
   "cell_type": "markdown",
   "metadata": {},
   "source": [
    "下面的步骤，我们将神经网络模型（包括了训练权重和参数等）把他们保存到一个文件里面，方便随时读取。"
   ]
  },
  {
   "cell_type": "code",
   "execution_count": 31,
   "metadata": {},
   "outputs": [],
   "source": [
    "from keras.models import load_model #导入模型保存工具\n",
    "cnn.save('../my_dog_cnn.h5')#创建 一个HDF5格式的文件‘my_dog_cnn.h5’\n",
    "del cnn #删除当前模型\n",
    "cnn = load_model('../my_dog_cnn.h5') #重新载入保存的模型"
   ]
  },
  {
   "cell_type": "markdown",
   "metadata": {},
   "source": [
    "总结一下 深度神经网络的性能优化是非常大的一个课题! 在这里两个项目当中优化实际上只是给了打架一个基本的思路!此外，我们还可以考虑\n",
    "的方向包括了以下几种：\n",
    "增加或减少网络层数。\n",
    "尝试不同的优化器和正则化方法。\n",
    "尝试不同的激活函数和损失函数"
   ]
  },
  {
   "cell_type": "markdown",
   "metadata": {},
   "source": [
    "** 绘制特征管道**\n",
    "就是卷积中特征管道的可视化"
   ]
  },
  {
   "cell_type": "code",
   "execution_count": 33,
   "metadata": {},
   "outputs": [
    {
     "data": {
      "text/plain": [
       "<matplotlib.image.AxesImage at 0x2c107a90fc8>"
      ]
     },
     "execution_count": 33,
     "metadata": {},
     "output_type": "execute_result"
    },
    {
     "data": {
      "image/png": "[encoded data removed]",
      "text/plain": [
       "<Figure size 288x288 with 1 Axes>"
      ]
     },
     "metadata": {
      "needs_background": "light"
     },
     "output_type": "display_data"
    },
    {
     "data": {
      "image/png": "[encoded data removed]",
      "text/plain": [
       "<Figure size 288x288 with 1 Axes>"
      ]
     },
     "metadata": {
      "needs_background": "light"
     },
     "output_type": "display_data"
    }
   ],
   "source": [
    "from keras.models import load_model #导入模型保存工具\n",
    "import matplotlib.pyplot as plt #导入matplotlib\n",
    "model = load_model('../my_dog_cnn.h5') #载入刚才保存的模型\n",
    "#绘制特征管道\n",
    "layer_outputs = [layer.output for layer in model.layers[:16]]\n",
    "image = X_train[0]\n",
    "image = image.reshape(1,150,150,3)\n",
    "activation_model = models.Model(inputs=model.input,outputs=layer_outputs)\n",
    "activations = activation_model.predict(image)\n",
    "first_layer_activation = activations[0]\n",
    "plt.matshow(first_layer_activation[0, :, :, 2],cmap='viridis')\n",
    "plt.matshow(first_layer_activation[0, :, :, 3],cmap='viridis')"
   ]
  },
  {
   "cell_type": "markdown",
   "metadata": {},
   "source": [
    "    ## 各种大型卷积网络模型 ##\n",
    "    上面的图像识别的分类的项目告一段落了。\\\n",
    "    但是在这里要多说一点科普性的内容。\\\n",
    "    卷积网络的“始祖”是AlexNet，在imageNet挑战赛上他曾经一举夺魁，成为深度学习热潮当中的开拓则。\\\n",
    "    自打他2012年夺冠到现在，数据科学家们构建出了一个接一个的大型卷积网络模型，这些网络结构上越来越好，预测更加的准确，速度更快，而且通常大型的网络都有着更为复杂的拓扑结构。\n",
    "\n",
    "### VGGNet ###\n",
    "        Visual Geometry Group-牛津大学计算机视觉组 和 Google DeepMind公司仪一起研发出的深度卷积神经网络模型VGGNet，这个模型在某个比赛当中也曾经取得了第一名的成绩，第二名是GoogleNet。\\\n",
    "        VGGNet探索了卷积神经网络的深度与性能之间的关系，成功地构建了16~19层深度的卷积网络，证明了增加网络的深度能够在一定程度上影响网络最终的性能，使错误率大幅度减小。同时，它的拓扑性很强，迁移到其他图像数据上的泛化性也很好。到目前为止，VGGNet仍然被用来提取图像特征。\\\n",
    "        VGGNet可以看成是加深版本的AlexNet，都是由卷积层，全连接层两个大的部分构成的，关于它的架构，我们简单说一下。\n",
    "\n",
    "这个经典的卷积网络的架构，包括了以下的特点。\n",
    "    \n",
    "VGGNet可以看成加深版本的AlexNet，都是由卷积层，全连接层两个大部分构成的，关于他的架构，我们简单说一下。\n",
    "    这个经典的卷积网络的架构，包括了\n",
    "    1）结构简介。VGGNet由5层卷积层，3层全连接层，1层SoftMax输出层构成。层和层之间使用最大化池层分开，所有隐层\n",
    "的激活单元都采用了RelU函数。\n",
    "    2）小卷积核和多卷积子层。VGGNet是用来 多个较小的卷积核（3*3）的卷积层代替一个较大卷积核的卷积层，这样做一方面\n",
    "可以减少参数，另一方面相当于进行了了更对的非线性映射，可以增加网络的拟合能力。\n",
    "    3）小池化核。相比AlexNet的3*3的池化核，VGGNet全部采用了2*2的池化核。\n",
    "    4）通道数多。VGGNet第一层的通道数为64，后面每一层都进行了翻倍，最多的时候达到了512个通道。通道数的增加，是的更多\n",
    "的信息可以被提取出来。\n",
    "    5）层数更深，特征图更宽。由于卷积核专注于扩大通道数，池化核专注于缩小宽度和高度。是的模型架构上更深，更宽的同时\n",
    "控制力计算量的增加规模\n",
    "    后来很多的卷积网络在设计的时候，都借鉴了VGGNet。\n",
    "    我们这次在上面所做的案例，实际上他的架构也和AGGNet如出一辙。\n",
    "    \n",
    "**采用Inception结构的GoogleNet**\n",
    "    新型的Inception或者ResNet，比起经典的VGGNet性能更加的优越。其中，Inception的速度更快，ResNet的准确率更高。\n",
    "    GoodleNet，采用的就是Inception结构，也是在2014年左右提出的一种新的深度学习结构。之前的AlexNet、VGGNet等结构都是通过\n",
    "单纯的增加网络的深度（层数）来提高准确率，由此带来的副作用，包括了过拟合，梯度消失，梯度爆炸等。Inception通过模块串联来更高效的利用计算资源，\n",
    "在相同的计算量下能够提取到更多的特征，从而提升训练结果。\n",
    "    Inception模块基本的架构，整个Inception结构由多个Inception模块串联起来。它的结构的主要贡献出两个：一个是使用1x1的卷积来进升降维，而是用\n",
    "    不同尺寸的卷积核同时进行卷积在聚合。\n",
    "\n",
    "**残差网络ResNet**\n",
    "    VGGNet和GooglNet都说明了一个道理：做够的深度是神经网络模型表现得更良好的前提。但是在网络达到一定的深度之后，简单的堆叠网络反面使效果变差了，\n",
    "这是由于梯度消失赫尔过拟合造成的\n",
    "    进一步的解决方案就是一千提到过的残差连续结构，我们通过创建较前面层和较后面层之间的捷径，解决了深度网络中的梯度消失问题。在构建卷积网络的过程中，\n",
    "残差连续结构构造出来的ResNet可以进一步的提高处理准确率\n",
    "    残差网络增加了一个恒等映射（identity mapping），把当前输出直接传输给下一层网络，相当于一个捷径，跳过了本层运算。同时再反向传播过程中，\n",
    "也是将下一层网络的梯度直接传递给上一层网络，这样就能够解决深层网络的梯度消失问题。\n",
    "    这些大型卷积网络还有一个非常大的优点：他学到了知识是可以迁移的。也就是说，一个训练好的大型卷积网络可以迁移到我们的新模型上面，\n",
    "来解决我们的问题。那么如何实现这种神经网络之间的知识迁移呢？这里我们暂时不提。\n",
    "    \n",
    "    下面，我们总结一下卷积网络的特点，\n",
    "    □局部连接，减少参数，提升效率。\n",
    "    □通过特征提取把整体特征分解成小特征\n",
    "    □小特征具有平移不变性，因此出现的各个位置均能够被识别。\n",
    "    □通过空间层级将深度特征组合，形成整体特征\n",
    "    □卷积的原理，卷积核对扣下来的图进行运算。、\n",
    "    □填充步幅。\n",
    "    □池化层的功能是对特征图进行下采样。\n",
    "    我们说卷积网络是计算机视觉处理的“利器”，在目前计算机视觉相关的项目实践当中，绝大数情况都可以看见卷积网络的身影。我们之前就是通过一个小型卷积网络\n",
    "    实现了对10种不同品种够的图像的分类。在这个过程当中，我们用多种方式对网络进行了优化。\n",
    "    我们最后还介绍了一种将卷积网络特征通道可视化的方法，以及集种大型卷积网络模型\n",
    "    \n",
    "    "
   ]
  }
 ],
 "metadata": {
  "kernelspec": {
   "display_name": "Python 3",
   "language": "python",
   "name": "python3"
  },
  "language_info": {
   "codemirror_mode": {
    "name": "ipython",
    "version": 3
   },
   "file_extension": ".py",
   "mimetype": "text/x-python",
   "name": "python",
   "nbconvert_exporter": "python",
   "pygments_lexer": "ipython3",
   "version": "3.7.4"
  }
 },
 "nbformat": 4,
 "nbformat_minor": 4
}
